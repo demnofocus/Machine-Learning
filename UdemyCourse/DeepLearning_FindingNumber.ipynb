{
 "cells": [
  {
   "cell_type": "code",
   "execution_count": 1,
   "metadata": {},
   "outputs": [],
   "source": [
    "import tensorflow as tf    # deep learning library\n",
    "mnist = tf.keras.datasets.mnist     # dataset of 28x28 images of handwritten digits and their labels\n",
    "(x_train, y_train), (x_test,y_test) = mnist.load_data()\n",
    "x_train = tf.keras.utils.normalize(x_train, axis=1)  # scales data between 0 and 1\n",
    "x_test = tf.keras.utils.normalize(x_test, axis=1)  # scales data between 0 and 1\n",
    "\n",
    "# A sequential model(things will go in direct order)\n",
    "# A feed forward model, no going backwards... for now\n",
    "model = tf.keras.models.Sequential()    # A basic feed-forward model\n",
    "\n",
    "model.add(tf.keras.layers.Flatten())    # takes our 28x28 and makes it 1x784"
   ]
  },
  {
   "cell_type": "code",
   "execution_count": 2,
   "metadata": {},
   "outputs": [
    {
     "name": "stdout",
     "output_type": "stream",
     "text": [
      "Train on 60000 samples\n",
      "Epoch 1/3\n",
      "60000/60000 [==============================] - 3s 54us/sample - loss: 0.2556 - accuracy: 0.9257\n",
      "Epoch 2/3\n",
      "60000/60000 [==============================] - 4s 74us/sample - loss: 0.1024 - accuracy: 0.9690\n",
      "Epoch 3/3\n",
      "60000/60000 [==============================] - 6s 92us/sample - loss: 0.0699 - accuracy: 0.9778\n"
     ]
    },
    {
     "data": {
      "text/plain": [
       "<tensorflow.python.keras.callbacks.History at 0x216281a6dc8>"
      ]
     },
     "execution_count": 2,
     "metadata": {},
     "output_type": "execute_result"
    }
   ],
   "source": [
    "model.add(tf.keras.layers.Dense(128, activation = tf.nn.relu))\n",
    "model.add(tf.keras.layers.Dense(128, activation = tf.nn.relu))\n",
    "\n",
    "model.add(tf.keras.layers.Dense(10, activation = tf.nn.softmax))\n",
    "\n",
    "model.compile(optimizer ='adam',\n",
    "             loss = 'sparse_categorical_crossentropy',\n",
    "             metrics = ['accuracy'])\n",
    "model.fit(x_train, y_train, epochs = 3)"
   ]
  },
  {
   "cell_type": "code",
   "execution_count": 3,
   "metadata": {},
   "outputs": [
    {
     "name": "stdout",
     "output_type": "stream",
     "text": [
      "10000/10000 [==============================] - 1s 69us/sample - loss: 0.1026 - accuracy: 0.9679\n",
      "0.10259217570899054\n",
      "0.9679\n"
     ]
    }
   ],
   "source": [
    "val_loss, val_acc = model.evaluate(x_test, y_test)  # evaluate the out of sample with the model\n",
    "print(val_loss)\n",
    "print(val_acc)"
   ]
  },
  {
   "cell_type": "code",
   "execution_count": 4,
   "metadata": {},
   "outputs": [
    {
     "name": "stdout",
     "output_type": "stream",
     "text": [
      "WARNING:tensorflow:From C:\\Users\\kevin\\anaconda3\\envs\\deeplearning\\lib\\site-packages\\tensorflow_core\\python\\ops\\resource_variable_ops.py:1786: calling BaseResourceVariable.__init__ (from tensorflow.python.ops.resource_variable_ops) with constraint is deprecated and will be removed in a future version.\n",
      "Instructions for updating:\n",
      "If using Keras pass *_constraint arguments to layers.\n",
      "INFO:tensorflow:Assets written to: epic_num_reader.model\\assets\n",
      "[[3.9498329e-09 3.2087804e-08 8.5658030e-06 ... 9.9979931e-01\n",
      "  5.9567565e-08 4.7693975e-06]\n",
      " [3.6511820e-09 5.5596820e-04 9.9943954e-01 ... 1.1416502e-08\n",
      "  1.5733648e-06 2.5741325e-12]\n",
      " [3.6634643e-07 9.9840242e-01 3.1665812e-05 ... 6.8274268e-05\n",
      "  1.2680787e-03 6.0093416e-06]\n",
      " ...\n",
      " [8.0196783e-09 1.8462624e-06 5.9829250e-07 ... 1.9670359e-05\n",
      "  1.7804481e-05 1.4060561e-03]\n",
      " [2.3572899e-09 7.4891403e-08 1.5159314e-09 ... 6.9990449e-08\n",
      "  2.2496830e-05 1.8140753e-10]\n",
      " [6.6919705e-07 1.2104672e-07 8.2245151e-07 ... 2.2591160e-09\n",
      "  2.4728295e-05 5.5213494e-08]]\n"
     ]
    }
   ],
   "source": [
    "model.save('epic_num_reader.model')\n",
    "\n",
    "new_model = tf.keras.models.load_model('epic_num_reader.model')\n",
    "\n",
    "predictions = new_model.predict(x_test)\n",
    "print(predictions)"
   ]
  },
  {
   "cell_type": "code",
   "execution_count": 9,
   "metadata": {},
   "outputs": [
    {
     "data": {
      "image/png": "[encoded data removed]",
      "text/plain": [
       "<Figure size 432x288 with 1 Axes>"
      ]
     },
     "metadata": {
      "needs_background": "light"
     },
     "output_type": "display_data"
    }
   ],
   "source": [
    "import matplotlib.pyplot as plt\n",
    "plt.imshow(x_test[0], cmap=plt.cm.binary)\n",
    "plt.show()\n",
    "#getting the 1st image with a number"
   ]
  },
  {
   "cell_type": "code",
   "execution_count": 10,
   "metadata": {},
   "outputs": [
    {
     "name": "stdout",
     "output_type": "stream",
     "text": [
      "7\n"
     ]
    }
   ],
   "source": [
    "import numpy as np\n",
    "\n",
    "print(np.argmax(predictions[0]))\n",
    "# asking the model to predict what number is the 1st image."
   ]
  },
  {
   "cell_type": "code",
   "execution_count": null,
   "metadata": {},
   "outputs": [],
   "source": []
  }
 ],
 "metadata": {
  "kernelspec": {
   "display_name": "Python 3",
   "language": "python",
   "name": "python3"
  },
  "language_info": {
   "codemirror_mode": {
    "name": "ipython",
    "version": 3
   },
   "file_extension": ".py",
   "mimetype": "text/x-python",
   "name": "python",
   "nbconvert_exporter": "python",
   "pygments_lexer": "ipython3",
   "version": "3.7.6"
  }
 },
 "nbformat": 4,
 "nbformat_minor": 4
}
